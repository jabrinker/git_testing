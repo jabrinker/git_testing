{
 "cells": [
  {
   "cell_type": "code",
   "execution_count": 1,
   "id": "e2bb098d",
   "metadata": {},
   "outputs": [
    {
     "name": "stdout",
     "output_type": "stream",
     "text": [
      "hello Git\n"
     ]
    }
   ],
   "source": [
    "print('hello Git')"
   ]
  },
  {
   "cell_type": "code",
   "execution_count": 1,
   "id": "9f438b55",
   "metadata": {},
   "outputs": [
    {
     "name": "stdout",
     "output_type": "stream",
     "text": [
      "testing\n"
     ]
    }
   ],
   "source": [
    "print('testing')"
   ]
  },
  {
   "cell_type": "code",
   "execution_count": 2,
   "id": "04b70109",
   "metadata": {},
   "outputs": [
    {
     "name": "stdout",
     "output_type": "stream",
     "text": [
      "starting new branch\n"
     ]
    }
   ],
   "source": [
    "print('starting new branch')"
   ]
  },
  {
   "cell_type": "code",
   "execution_count": null,
   "id": "94f17772",
   "metadata": {},
   "outputs": [],
   "source": []
  }
 ],
 "metadata": {
  "kernelspec": {
   "display_name": "Python 3 (ipykernel)",
   "language": "python",
   "name": "python3"
  },
  "language_info": {
   "codemirror_mode": {
    "name": "ipython",
    "version": 3
   },
   "file_extension": ".py",
   "mimetype": "text/x-python",
   "name": "python",
   "nbconvert_exporter": "python",
   "pygments_lexer": "ipython3",
   "version": "3.9.13"
  }
 },
 "nbformat": 4,
 "nbformat_minor": 5
}
